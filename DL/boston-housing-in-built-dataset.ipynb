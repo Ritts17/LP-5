{
 "cells": [
  {
   "cell_type": "markdown",
   "id": "4fe7a0b5",
   "metadata": {},
   "source": [
    "**Import Required Libraries**\n",
    "\n",
    "- Imports libraries for data handling (`NumPy`, `Pandas`), visualization (`Seaborn`), preprocessing (`StandardScaler`), model building (`TensorFlow/Keras`), and loading the dataset (`fetch_california_housing`).\n"
   ]
  },
  {
   "cell_type": "code",
   "execution_count": null,
   "id": "05652d8e-dffb-4ad2-a4e2-2e033bad28bc",
   "metadata": {},
   "outputs": [],
   "source": [
    "import numpy as np\n",
    "import seaborn as sns\n",
    "import pandas as pd\n",
    "from sklearn.datasets import fetch_california_housing\n",
    "from sklearn.model_selection import train_test_split\n",
    "from sklearn.preprocessing import StandardScaler\n",
    "import tensorflow as tf\n",
    "from tensorflow.keras.models import Sequential\n",
    "from tensorflow.keras.layers import Dense, Input"
   ]
  },
  {
   "cell_type": "markdown",
   "id": "818b248c",
   "metadata": {},
   "source": [
    "**Load the California Housing Dataset**\n",
    "\n",
    "- Loads the built-in California housing dataset from `sklearn.datasets`.\n",
    "- `X` contains the input features, and `y` is the target variable (median house value).\n"
   ]
  },
  {
   "cell_type": "code",
   "execution_count": 30,
   "id": "5869adea-e2df-42ec-a4fe-80551e42da69",
   "metadata": {},
   "outputs": [],
   "source": [
    "# Step 1: Load the California housing dataset\n",
    "california_housing = fetch_california_housing()\n",
    "X = california_housing.data  # Features\n",
    "y = california_housing.target  # Target variable"
   ]
  },
  {
   "cell_type": "markdown",
   "id": "7e0b720f",
   "metadata": {},
   "source": [
    "**Preprocess the Data**\n",
    "\n",
    "- Normalizes the feature values using `StandardScaler` for better training convergence.\n",
    "- Splits the dataset into training and testing sets (80/20 split).\n"
   ]
  },
  {
   "cell_type": "code",
   "execution_count": null,
   "id": "cef2b53e-ed88-4ac4-ab27-7da3ef1763d7",
   "metadata": {},
   "outputs": [],
   "source": [
    "# Step 2: Preprocess the data\n",
    "scaler = StandardScaler()\n",
    "X_scaled = scaler.fit_transform(X)\n",
    "\n",
    "# Split the data into training and testing sets (80% train, 20% test)\n",
    "X_train, X_test, y_train, y_test = train_test_split(X_scaled, y, test_size=0.2, random_state=42)"
   ]
  },
  {
   "cell_type": "markdown",
   "id": "145d0b1f",
   "metadata": {},
   "source": [
    "**Build the Neural Network Model**\n",
    "\n",
    "- Constructs a sequential neural network with:\n",
    "  - An input layer defined via `Input(shape=...)`.\n",
    "  - Two hidden layers with 64 and 32 neurons using ReLU activation.\n",
    "  - A single output neuron for predicting house prices (regression).\n"
   ]
  },
  {
   "cell_type": "code",
   "execution_count": 33,
   "id": "248bad7c-5324-4cad-8ee7-66a3d6bf53ad",
   "metadata": {},
   "outputs": [],
   "source": [
    "# Step 3: Build the model using the Input layer\n",
    "model = Sequential()\n",
    "model.add(Input(shape=(X_train.shape[1],)))  # Define input shape here\n",
    "model.add(Dense(units=64, activation='relu'))  # Hidden layer with 64 neurons\n",
    "model.add(Dense(units=32, activation='relu'))  # Another hidden layer with 32 neurons\n",
    "model.add(Dense(units=1))  # Output layer with a single neuron (regression)"
   ]
  },
  {
   "cell_type": "markdown",
   "id": "58c96d3e",
   "metadata": {},
   "source": [
    "**Compile the Model**\n",
    "\n",
    "- Compiles the model using the Adam optimizer and Mean Squared Error (MSE) as the loss function, suitable for regression tasks.\n"
   ]
  },
  {
   "cell_type": "code",
   "execution_count": 34,
   "id": "64d510b5-bbb7-46bb-92d8-4914d869af18",
   "metadata": {},
   "outputs": [],
   "source": [
    "# Step 4: Compile the model\n",
    "model.compile(optimizer='adam', loss='mean_squared_error')"
   ]
  },
  {
   "cell_type": "markdown",
   "id": "24a1622e",
   "metadata": {},
   "source": [
    "**Train the Model**\n",
    "\n",
    "- Trains the model using the training data for 100 epochs with a batch size of 32.\n",
    "- Uses 20% test data as validation to monitor performance during training.\n"
   ]
  },
  {
   "cell_type": "code",
   "execution_count": 36,
   "id": "82b58826-0bef-4067-9902-e503dbbcaee9",
   "metadata": {},
   "outputs": [
    {
     "name": "stdout",
     "output_type": "stream",
     "text": [
      "Epoch 1/100\n",
      "\u001b[1m516/516\u001b[0m \u001b[32m━━━━━━━━━━━━━━━━━━━━\u001b[0m\u001b[37m\u001b[0m \u001b[1m1s\u001b[0m 2ms/step - loss: 0.2126 - val_loss: 0.2637\n",
      "Epoch 2/100\n",
      "\u001b[1m516/516\u001b[0m \u001b[32m━━━━━━━━━━━━━━━━━━━━\u001b[0m\u001b[37m\u001b[0m \u001b[1m1s\u001b[0m 2ms/step - loss: 0.2185 - val_loss: 0.2583\n",
      "Epoch 3/100\n",
      "\u001b[1m516/516\u001b[0m \u001b[32m━━━━━━━━━━━━━━━━━━━━\u001b[0m\u001b[37m\u001b[0m \u001b[1m1s\u001b[0m 2ms/step - loss: 0.2167 - val_loss: 0.2626\n",
      "Epoch 4/100\n",
      "\u001b[1m516/516\u001b[0m \u001b[32m━━━━━━━━━━━━━━━━━━━━\u001b[0m\u001b[37m\u001b[0m \u001b[1m1s\u001b[0m 2ms/step - loss: 0.2149 - val_loss: 0.2626\n",
      "Epoch 5/100\n",
      "\u001b[1m516/516\u001b[0m \u001b[32m━━━━━━━━━━━━━━━━━━━━\u001b[0m\u001b[37m\u001b[0m \u001b[1m1s\u001b[0m 2ms/step - loss: 0.2134 - val_loss: 0.2589\n",
      "Epoch 6/100\n",
      "\u001b[1m516/516\u001b[0m \u001b[32m━━━━━━━━━━━━━━━━━━━━\u001b[0m\u001b[37m\u001b[0m \u001b[1m1s\u001b[0m 2ms/step - loss: 0.2123 - val_loss: 0.2587\n",
      "Epoch 7/100\n",
      "\u001b[1m516/516\u001b[0m \u001b[32m━━━━━━━━━━━━━━━━━━━━\u001b[0m\u001b[37m\u001b[0m \u001b[1m1s\u001b[0m 2ms/step - loss: 0.2138 - val_loss: 0.2591\n",
      "Epoch 8/100\n",
      "\u001b[1m516/516\u001b[0m \u001b[32m━━━━━━━━━━━━━━━━━━━━\u001b[0m\u001b[37m\u001b[0m \u001b[1m1s\u001b[0m 1ms/step - loss: 0.2181 - val_loss: 0.2659\n",
      "Epoch 9/100\n",
      "\u001b[1m516/516\u001b[0m \u001b[32m━━━━━━━━━━━━━━━━━━━━\u001b[0m\u001b[37m\u001b[0m \u001b[1m1s\u001b[0m 2ms/step - loss: 0.2166 - val_loss: 0.2689\n",
      "Epoch 10/100\n",
      "\u001b[1m516/516\u001b[0m \u001b[32m━━━━━━━━━━━━━━━━━━━━\u001b[0m\u001b[37m\u001b[0m \u001b[1m1s\u001b[0m 2ms/step - loss: 0.2097 - val_loss: 0.2591\n",
      "Epoch 11/100\n",
      "\u001b[1m516/516\u001b[0m \u001b[32m━━━━━━━━━━━━━━━━━━━━\u001b[0m\u001b[37m\u001b[0m \u001b[1m1s\u001b[0m 1ms/step - loss: 0.2115 - val_loss: 0.2577\n",
      "Epoch 12/100\n",
      "\u001b[1m516/516\u001b[0m \u001b[32m━━━━━━━━━━━━━━━━━━━━\u001b[0m\u001b[37m\u001b[0m \u001b[1m1s\u001b[0m 2ms/step - loss: 0.2138 - val_loss: 0.2606\n",
      "Epoch 13/100\n",
      "\u001b[1m516/516\u001b[0m \u001b[32m━━━━━━━━━━━━━━━━━━━━\u001b[0m\u001b[37m\u001b[0m \u001b[1m1s\u001b[0m 2ms/step - loss: 0.2177 - val_loss: 0.2625\n",
      "Epoch 14/100\n",
      "\u001b[1m516/516\u001b[0m \u001b[32m━━━━━━━━━━━━━━━━━━━━\u001b[0m\u001b[37m\u001b[0m \u001b[1m1s\u001b[0m 1ms/step - loss: 0.2096 - val_loss: 0.2593\n",
      "Epoch 15/100\n",
      "\u001b[1m516/516\u001b[0m \u001b[32m━━━━━━━━━━━━━━━━━━━━\u001b[0m\u001b[37m\u001b[0m \u001b[1m1s\u001b[0m 1ms/step - loss: 0.2078 - val_loss: 0.2621\n",
      "Epoch 16/100\n",
      "\u001b[1m516/516\u001b[0m \u001b[32m━━━━━━━━━━━━━━━━━━━━\u001b[0m\u001b[37m\u001b[0m \u001b[1m1s\u001b[0m 1ms/step - loss: 0.2177 - val_loss: 0.2597\n",
      "Epoch 17/100\n",
      "\u001b[1m516/516\u001b[0m \u001b[32m━━━━━━━━━━━━━━━━━━━━\u001b[0m\u001b[37m\u001b[0m \u001b[1m1s\u001b[0m 2ms/step - loss: 0.2097 - val_loss: 0.2589\n",
      "Epoch 18/100\n",
      "\u001b[1m516/516\u001b[0m \u001b[32m━━━━━━━━━━━━━━━━━━━━\u001b[0m\u001b[37m\u001b[0m \u001b[1m1s\u001b[0m 1ms/step - loss: 0.2076 - val_loss: 0.2633\n",
      "Epoch 19/100\n",
      "\u001b[1m516/516\u001b[0m \u001b[32m━━━━━━━━━━━━━━━━━━━━\u001b[0m\u001b[37m\u001b[0m \u001b[1m1s\u001b[0m 1ms/step - loss: 0.2146 - val_loss: 0.2773\n",
      "Epoch 20/100\n",
      "\u001b[1m516/516\u001b[0m \u001b[32m━━━━━━━━━━━━━━━━━━━━\u001b[0m\u001b[37m\u001b[0m \u001b[1m1s\u001b[0m 2ms/step - loss: 0.2114 - val_loss: 0.2792\n",
      "Epoch 21/100\n",
      "\u001b[1m516/516\u001b[0m \u001b[32m━━━━━━━━━━━━━━━━━━━━\u001b[0m\u001b[37m\u001b[0m \u001b[1m1s\u001b[0m 1ms/step - loss: 0.2053 - val_loss: 0.2879\n",
      "Epoch 22/100\n",
      "\u001b[1m516/516\u001b[0m \u001b[32m━━━━━━━━━━━━━━━━━━━━\u001b[0m\u001b[37m\u001b[0m \u001b[1m1s\u001b[0m 1ms/step - loss: 0.2105 - val_loss: 0.2655\n",
      "Epoch 23/100\n",
      "\u001b[1m516/516\u001b[0m \u001b[32m━━━━━━━━━━━━━━━━━━━━\u001b[0m\u001b[37m\u001b[0m \u001b[1m1s\u001b[0m 2ms/step - loss: 0.2120 - val_loss: 0.2584\n",
      "Epoch 24/100\n",
      "\u001b[1m516/516\u001b[0m \u001b[32m━━━━━━━━━━━━━━━━━━━━\u001b[0m\u001b[37m\u001b[0m \u001b[1m1s\u001b[0m 1ms/step - loss: 0.2202 - val_loss: 0.2576\n",
      "Epoch 25/100\n",
      "\u001b[1m516/516\u001b[0m \u001b[32m━━━━━━━━━━━━━━━━━━━━\u001b[0m\u001b[37m\u001b[0m \u001b[1m1s\u001b[0m 1ms/step - loss: 0.2082 - val_loss: 0.2573\n",
      "Epoch 26/100\n",
      "\u001b[1m516/516\u001b[0m \u001b[32m━━━━━━━━━━━━━━━━━━━━\u001b[0m\u001b[37m\u001b[0m \u001b[1m1s\u001b[0m 1ms/step - loss: 0.2161 - val_loss: 0.2671\n",
      "Epoch 27/100\n",
      "\u001b[1m516/516\u001b[0m \u001b[32m━━━━━━━━━━━━━━━━━━━━\u001b[0m\u001b[37m\u001b[0m \u001b[1m1s\u001b[0m 1ms/step - loss: 0.2156 - val_loss: 0.2655\n",
      "Epoch 28/100\n",
      "\u001b[1m516/516\u001b[0m \u001b[32m━━━━━━━━━━━━━━━━━━━━\u001b[0m\u001b[37m\u001b[0m \u001b[1m1s\u001b[0m 1ms/step - loss: 0.2068 - val_loss: 0.2584\n",
      "Epoch 29/100\n",
      "\u001b[1m516/516\u001b[0m \u001b[32m━━━━━━━━━━━━━━━━━━━━\u001b[0m\u001b[37m\u001b[0m \u001b[1m1s\u001b[0m 1ms/step - loss: 0.2043 - val_loss: 0.2608\n",
      "Epoch 30/100\n",
      "\u001b[1m516/516\u001b[0m \u001b[32m━━━━━━━━━━━━━━━━━━━━\u001b[0m\u001b[37m\u001b[0m \u001b[1m1s\u001b[0m 2ms/step - loss: 0.2134 - val_loss: 0.2631\n",
      "Epoch 31/100\n",
      "\u001b[1m516/516\u001b[0m \u001b[32m━━━━━━━━━━━━━━━━━━━━\u001b[0m\u001b[37m\u001b[0m \u001b[1m1s\u001b[0m 2ms/step - loss: 0.2104 - val_loss: 0.2680\n",
      "Epoch 32/100\n",
      "\u001b[1m516/516\u001b[0m \u001b[32m━━━━━━━━━━━━━━━━━━━━\u001b[0m\u001b[37m\u001b[0m \u001b[1m1s\u001b[0m 2ms/step - loss: 0.2176 - val_loss: 0.2571\n",
      "Epoch 33/100\n",
      "\u001b[1m516/516\u001b[0m \u001b[32m━━━━━━━━━━━━━━━━━━━━\u001b[0m\u001b[37m\u001b[0m \u001b[1m1s\u001b[0m 2ms/step - loss: 0.2024 - val_loss: 0.2583\n",
      "Epoch 34/100\n",
      "\u001b[1m516/516\u001b[0m \u001b[32m━━━━━━━━━━━━━━━━━━━━\u001b[0m\u001b[37m\u001b[0m \u001b[1m1s\u001b[0m 2ms/step - loss: 0.1978 - val_loss: 0.2611\n",
      "Epoch 35/100\n",
      "\u001b[1m516/516\u001b[0m \u001b[32m━━━━━━━━━━━━━━━━━━━━\u001b[0m\u001b[37m\u001b[0m \u001b[1m1s\u001b[0m 1ms/step - loss: 0.2089 - val_loss: 0.2606\n",
      "Epoch 36/100\n",
      "\u001b[1m516/516\u001b[0m \u001b[32m━━━━━━━━━━━━━━━━━━━━\u001b[0m\u001b[37m\u001b[0m \u001b[1m1s\u001b[0m 2ms/step - loss: 0.2050 - val_loss: 0.2526\n",
      "Epoch 37/100\n",
      "\u001b[1m516/516\u001b[0m \u001b[32m━━━━━━━━━━━━━━━━━━━━\u001b[0m\u001b[37m\u001b[0m \u001b[1m1s\u001b[0m 1ms/step - loss: 0.1983 - val_loss: 0.2546\n",
      "Epoch 38/100\n",
      "\u001b[1m516/516\u001b[0m \u001b[32m━━━━━━━━━━━━━━━━━━━━\u001b[0m\u001b[37m\u001b[0m \u001b[1m1s\u001b[0m 2ms/step - loss: 0.2043 - val_loss: 0.2566\n",
      "Epoch 39/100\n",
      "\u001b[1m516/516\u001b[0m \u001b[32m━━━━━━━━━━━━━━━━━━━━\u001b[0m\u001b[37m\u001b[0m \u001b[1m1s\u001b[0m 2ms/step - loss: 0.2066 - val_loss: 0.2585\n",
      "Epoch 40/100\n",
      "\u001b[1m516/516\u001b[0m \u001b[32m━━━━━━━━━━━━━━━━━━━━\u001b[0m\u001b[37m\u001b[0m \u001b[1m1s\u001b[0m 2ms/step - loss: 0.2104 - val_loss: 0.2551\n",
      "Epoch 41/100\n",
      "\u001b[1m516/516\u001b[0m \u001b[32m━━━━━━━━━━━━━━━━━━━━\u001b[0m\u001b[37m\u001b[0m \u001b[1m1s\u001b[0m 1ms/step - loss: 0.2056 - val_loss: 0.2643\n",
      "Epoch 42/100\n",
      "\u001b[1m516/516\u001b[0m \u001b[32m━━━━━━━━━━━━━━━━━━━━\u001b[0m\u001b[37m\u001b[0m \u001b[1m1s\u001b[0m 1ms/step - loss: 0.2093 - val_loss: 0.2605\n",
      "Epoch 43/100\n",
      "\u001b[1m516/516\u001b[0m \u001b[32m━━━━━━━━━━━━━━━━━━━━\u001b[0m\u001b[37m\u001b[0m \u001b[1m1s\u001b[0m 1ms/step - loss: 0.2093 - val_loss: 0.2614\n",
      "Epoch 44/100\n",
      "\u001b[1m516/516\u001b[0m \u001b[32m━━━━━━━━━━━━━━━━━━━━\u001b[0m\u001b[37m\u001b[0m \u001b[1m1s\u001b[0m 1ms/step - loss: 0.2087 - val_loss: 0.2597\n",
      "Epoch 45/100\n",
      "\u001b[1m516/516\u001b[0m \u001b[32m━━━━━━━━━━━━━━━━━━━━\u001b[0m\u001b[37m\u001b[0m \u001b[1m1s\u001b[0m 2ms/step - loss: 0.2064 - val_loss: 0.2595\n",
      "Epoch 46/100\n",
      "\u001b[1m516/516\u001b[0m \u001b[32m━━━━━━━━━━━━━━━━━━━━\u001b[0m\u001b[37m\u001b[0m \u001b[1m1s\u001b[0m 1ms/step - loss: 0.2045 - val_loss: 0.2583\n",
      "Epoch 47/100\n",
      "\u001b[1m516/516\u001b[0m \u001b[32m━━━━━━━━━━━━━━━━━━━━\u001b[0m\u001b[37m\u001b[0m \u001b[1m1s\u001b[0m 1ms/step - loss: 0.2001 - val_loss: 0.2564\n",
      "Epoch 48/100\n",
      "\u001b[1m516/516\u001b[0m \u001b[32m━━━━━━━━━━━━━━━━━━━━\u001b[0m\u001b[37m\u001b[0m \u001b[1m1s\u001b[0m 1ms/step - loss: 0.2251 - val_loss: 0.2636\n",
      "Epoch 49/100\n",
      "\u001b[1m516/516\u001b[0m \u001b[32m━━━━━━━━━━━━━━━━━━━━\u001b[0m\u001b[37m\u001b[0m \u001b[1m1s\u001b[0m 2ms/step - loss: 0.1992 - val_loss: 0.2557\n",
      "Epoch 50/100\n",
      "\u001b[1m516/516\u001b[0m \u001b[32m━━━━━━━━━━━━━━━━━━━━\u001b[0m\u001b[37m\u001b[0m \u001b[1m1s\u001b[0m 1ms/step - loss: 0.2029 - val_loss: 0.2631\n",
      "Epoch 51/100\n",
      "\u001b[1m516/516\u001b[0m \u001b[32m━━━━━━━━━━━━━━━━━━━━\u001b[0m\u001b[37m\u001b[0m \u001b[1m1s\u001b[0m 1ms/step - loss: 0.2046 - val_loss: 0.2589\n",
      "Epoch 52/100\n",
      "\u001b[1m516/516\u001b[0m \u001b[32m━━━━━━━━━━━━━━━━━━━━\u001b[0m\u001b[37m\u001b[0m \u001b[1m1s\u001b[0m 1ms/step - loss: 0.1986 - val_loss: 0.2568\n",
      "Epoch 53/100\n",
      "\u001b[1m516/516\u001b[0m \u001b[32m━━━━━━━━━━━━━━━━━━━━\u001b[0m\u001b[37m\u001b[0m \u001b[1m1s\u001b[0m 1ms/step - loss: 0.2011 - val_loss: 0.2558\n",
      "Epoch 54/100\n",
      "\u001b[1m516/516\u001b[0m \u001b[32m━━━━━━━━━━━━━━━━━━━━\u001b[0m\u001b[37m\u001b[0m \u001b[1m1s\u001b[0m 2ms/step - loss: 0.2001 - val_loss: 0.2588\n",
      "Epoch 55/100\n",
      "\u001b[1m516/516\u001b[0m \u001b[32m━━━━━━━━━━━━━━━━━━━━\u001b[0m\u001b[37m\u001b[0m \u001b[1m1s\u001b[0m 2ms/step - loss: 0.1973 - val_loss: 0.2657\n",
      "Epoch 56/100\n",
      "\u001b[1m516/516\u001b[0m \u001b[32m━━━━━━━━━━━━━━━━━━━━\u001b[0m\u001b[37m\u001b[0m \u001b[1m1s\u001b[0m 1ms/step - loss: 0.1977 - val_loss: 0.2550\n",
      "Epoch 57/100\n",
      "\u001b[1m516/516\u001b[0m \u001b[32m━━━━━━━━━━━━━━━━━━━━\u001b[0m\u001b[37m\u001b[0m \u001b[1m1s\u001b[0m 1ms/step - loss: 0.2019 - val_loss: 0.2550\n",
      "Epoch 58/100\n",
      "\u001b[1m516/516\u001b[0m \u001b[32m━━━━━━━━━━━━━━━━━━━━\u001b[0m\u001b[37m\u001b[0m \u001b[1m1s\u001b[0m 1ms/step - loss: 0.2008 - val_loss: 0.2563\n",
      "Epoch 59/100\n",
      "\u001b[1m516/516\u001b[0m \u001b[32m━━━━━━━━━━━━━━━━━━━━\u001b[0m\u001b[37m\u001b[0m \u001b[1m1s\u001b[0m 1ms/step - loss: 0.2007 - val_loss: 0.2571\n",
      "Epoch 60/100\n",
      "\u001b[1m516/516\u001b[0m \u001b[32m━━━━━━━━━━━━━━━━━━━━\u001b[0m\u001b[37m\u001b[0m \u001b[1m1s\u001b[0m 1ms/step - loss: 0.1924 - val_loss: 0.2561\n",
      "Epoch 61/100\n",
      "\u001b[1m516/516\u001b[0m \u001b[32m━━━━━━━━━━━━━━━━━━━━\u001b[0m\u001b[37m\u001b[0m \u001b[1m1s\u001b[0m 1ms/step - loss: 0.1936 - val_loss: 0.2585\n",
      "Epoch 62/100\n",
      "\u001b[1m516/516\u001b[0m \u001b[32m━━━━━━━━━━━━━━━━━━━━\u001b[0m\u001b[37m\u001b[0m \u001b[1m1s\u001b[0m 2ms/step - loss: 0.2002 - val_loss: 0.2568\n",
      "Epoch 63/100\n",
      "\u001b[1m516/516\u001b[0m \u001b[32m━━━━━━━━━━━━━━━━━━━━\u001b[0m\u001b[37m\u001b[0m \u001b[1m1s\u001b[0m 1ms/step - loss: 0.1982 - val_loss: 0.2538\n",
      "Epoch 64/100\n",
      "\u001b[1m516/516\u001b[0m \u001b[32m━━━━━━━━━━━━━━━━━━━━\u001b[0m\u001b[37m\u001b[0m \u001b[1m1s\u001b[0m 1ms/step - loss: 0.1962 - val_loss: 0.2568\n",
      "Epoch 65/100\n",
      "\u001b[1m516/516\u001b[0m \u001b[32m━━━━━━━━━━━━━━━━━━━━\u001b[0m\u001b[37m\u001b[0m \u001b[1m1s\u001b[0m 1ms/step - loss: 0.2003 - val_loss: 0.2598\n",
      "Epoch 66/100\n",
      "\u001b[1m516/516\u001b[0m \u001b[32m━━━━━━━━━━━━━━━━━━━━\u001b[0m\u001b[37m\u001b[0m \u001b[1m1s\u001b[0m 1ms/step - loss: 0.2058 - val_loss: 0.2565\n",
      "Epoch 67/100\n",
      "\u001b[1m516/516\u001b[0m \u001b[32m━━━━━━━━━━━━━━━━━━━━\u001b[0m\u001b[37m\u001b[0m \u001b[1m1s\u001b[0m 1ms/step - loss: 0.2001 - val_loss: 0.2554\n",
      "Epoch 68/100\n",
      "\u001b[1m516/516\u001b[0m \u001b[32m━━━━━━━━━━━━━━━━━━━━\u001b[0m\u001b[37m\u001b[0m \u001b[1m1s\u001b[0m 1ms/step - loss: 0.1965 - val_loss: 0.2536\n",
      "Epoch 69/100\n",
      "\u001b[1m516/516\u001b[0m \u001b[32m━━━━━━━━━━━━━━━━━━━━\u001b[0m\u001b[37m\u001b[0m \u001b[1m1s\u001b[0m 1ms/step - loss: 0.1976 - val_loss: 0.2551\n",
      "Epoch 70/100\n",
      "\u001b[1m516/516\u001b[0m \u001b[32m━━━━━━━━━━━━━━━━━━━━\u001b[0m\u001b[37m\u001b[0m \u001b[1m1s\u001b[0m 1ms/step - loss: 0.2016 - val_loss: 0.2542\n",
      "Epoch 71/100\n",
      "\u001b[1m516/516\u001b[0m \u001b[32m━━━━━━━━━━━━━━━━━━━━\u001b[0m\u001b[37m\u001b[0m \u001b[1m1s\u001b[0m 1ms/step - loss: 0.1995 - val_loss: 0.2553\n",
      "Epoch 72/100\n",
      "\u001b[1m516/516\u001b[0m \u001b[32m━━━━━━━━━━━━━━━━━━━━\u001b[0m\u001b[37m\u001b[0m \u001b[1m1s\u001b[0m 1ms/step - loss: 0.1956 - val_loss: 0.2750\n",
      "Epoch 73/100\n",
      "\u001b[1m516/516\u001b[0m \u001b[32m━━━━━━━━━━━━━━━━━━━━\u001b[0m\u001b[37m\u001b[0m \u001b[1m1s\u001b[0m 1ms/step - loss: 0.2017 - val_loss: 0.2625\n",
      "Epoch 74/100\n",
      "\u001b[1m516/516\u001b[0m \u001b[32m━━━━━━━━━━━━━━━━━━━━\u001b[0m\u001b[37m\u001b[0m \u001b[1m1s\u001b[0m 1ms/step - loss: 0.2016 - val_loss: 0.2571\n",
      "Epoch 75/100\n",
      "\u001b[1m516/516\u001b[0m \u001b[32m━━━━━━━━━━━━━━━━━━━━\u001b[0m\u001b[37m\u001b[0m \u001b[1m1s\u001b[0m 1ms/step - loss: 0.1951 - val_loss: 0.2575\n",
      "Epoch 76/100\n",
      "\u001b[1m516/516\u001b[0m \u001b[32m━━━━━━━━━━━━━━━━━━━━\u001b[0m\u001b[37m\u001b[0m \u001b[1m1s\u001b[0m 1ms/step - loss: 0.2053 - val_loss: 0.2565\n",
      "Epoch 77/100\n",
      "\u001b[1m516/516\u001b[0m \u001b[32m━━━━━━━━━━━━━━━━━━━━\u001b[0m\u001b[37m\u001b[0m \u001b[1m1s\u001b[0m 1ms/step - loss: 0.2056 - val_loss: 0.2592\n",
      "Epoch 78/100\n",
      "\u001b[1m516/516\u001b[0m \u001b[32m━━━━━━━━━━━━━━━━━━━━\u001b[0m\u001b[37m\u001b[0m \u001b[1m1s\u001b[0m 1ms/step - loss: 0.1914 - val_loss: 0.2653\n",
      "Epoch 79/100\n",
      "\u001b[1m516/516\u001b[0m \u001b[32m━━━━━━━━━━━━━━━━━━━━\u001b[0m\u001b[37m\u001b[0m \u001b[1m1s\u001b[0m 1ms/step - loss: 0.1984 - val_loss: 0.2596\n",
      "Epoch 80/100\n",
      "\u001b[1m516/516\u001b[0m \u001b[32m━━━━━━━━━━━━━━━━━━━━\u001b[0m\u001b[37m\u001b[0m \u001b[1m1s\u001b[0m 1ms/step - loss: 0.2034 - val_loss: 0.2616\n",
      "Epoch 81/100\n",
      "\u001b[1m516/516\u001b[0m \u001b[32m━━━━━━━━━━━━━━━━━━━━\u001b[0m\u001b[37m\u001b[0m \u001b[1m1s\u001b[0m 1ms/step - loss: 0.1878 - val_loss: 0.2717\n",
      "Epoch 82/100\n",
      "\u001b[1m516/516\u001b[0m \u001b[32m━━━━━━━━━━━━━━━━━━━━\u001b[0m\u001b[37m\u001b[0m \u001b[1m1s\u001b[0m 1ms/step - loss: 0.1941 - val_loss: 0.2555\n",
      "Epoch 83/100\n",
      "\u001b[1m516/516\u001b[0m \u001b[32m━━━━━━━━━━━━━━━━━━━━\u001b[0m\u001b[37m\u001b[0m \u001b[1m1s\u001b[0m 1ms/step - loss: 0.1872 - val_loss: 0.2565\n",
      "Epoch 84/100\n",
      "\u001b[1m516/516\u001b[0m \u001b[32m━━━━━━━━━━━━━━━━━━━━\u001b[0m\u001b[37m\u001b[0m \u001b[1m1s\u001b[0m 1ms/step - loss: 0.1941 - val_loss: 0.2538\n",
      "Epoch 85/100\n",
      "\u001b[1m516/516\u001b[0m \u001b[32m━━━━━━━━━━━━━━━━━━━━\u001b[0m\u001b[37m\u001b[0m \u001b[1m1s\u001b[0m 1ms/step - loss: 0.1885 - val_loss: 0.2528\n",
      "Epoch 86/100\n",
      "\u001b[1m516/516\u001b[0m \u001b[32m━━━━━━━━━━━━━━━━━━━━\u001b[0m\u001b[37m\u001b[0m \u001b[1m1s\u001b[0m 1ms/step - loss: 0.2050 - val_loss: 0.2609\n",
      "Epoch 87/100\n",
      "\u001b[1m516/516\u001b[0m \u001b[32m━━━━━━━━━━━━━━━━━━━━\u001b[0m\u001b[37m\u001b[0m \u001b[1m1s\u001b[0m 1ms/step - loss: 0.1966 - val_loss: 0.2539\n",
      "Epoch 88/100\n",
      "\u001b[1m516/516\u001b[0m \u001b[32m━━━━━━━━━━━━━━━━━━━━\u001b[0m\u001b[37m\u001b[0m \u001b[1m1s\u001b[0m 1ms/step - loss: 0.1891 - val_loss: 0.2573\n",
      "Epoch 89/100\n",
      "\u001b[1m516/516\u001b[0m \u001b[32m━━━━━━━━━━━━━━━━━━━━\u001b[0m\u001b[37m\u001b[0m \u001b[1m1s\u001b[0m 2ms/step - loss: 0.1901 - val_loss: 0.2659\n",
      "Epoch 90/100\n",
      "\u001b[1m516/516\u001b[0m \u001b[32m━━━━━━━━━━━━━━━━━━━━\u001b[0m\u001b[37m\u001b[0m \u001b[1m1s\u001b[0m 1ms/step - loss: 0.1924 - val_loss: 0.2544\n",
      "Epoch 91/100\n",
      "\u001b[1m516/516\u001b[0m \u001b[32m━━━━━━━━━━━━━━━━━━━━\u001b[0m\u001b[37m\u001b[0m \u001b[1m1s\u001b[0m 1ms/step - loss: 0.1940 - val_loss: 0.2548\n",
      "Epoch 92/100\n",
      "\u001b[1m516/516\u001b[0m \u001b[32m━━━━━━━━━━━━━━━━━━━━\u001b[0m\u001b[37m\u001b[0m \u001b[1m1s\u001b[0m 1ms/step - loss: 0.1932 - val_loss: 0.2601\n",
      "Epoch 93/100\n",
      "\u001b[1m516/516\u001b[0m \u001b[32m━━━━━━━━━━━━━━━━━━━━\u001b[0m\u001b[37m\u001b[0m \u001b[1m1s\u001b[0m 1ms/step - loss: 0.1957 - val_loss: 0.2526\n",
      "Epoch 94/100\n",
      "\u001b[1m516/516\u001b[0m \u001b[32m━━━━━━━━━━━━━━━━━━━━\u001b[0m\u001b[37m\u001b[0m \u001b[1m1s\u001b[0m 1ms/step - loss: 0.1919 - val_loss: 0.2521\n",
      "Epoch 95/100\n",
      "\u001b[1m516/516\u001b[0m \u001b[32m━━━━━━━━━━━━━━━━━━━━\u001b[0m\u001b[37m\u001b[0m \u001b[1m1s\u001b[0m 1ms/step - loss: 0.1903 - val_loss: 0.2633\n",
      "Epoch 96/100\n",
      "\u001b[1m516/516\u001b[0m \u001b[32m━━━━━━━━━━━━━━━━━━━━\u001b[0m\u001b[37m\u001b[0m \u001b[1m1s\u001b[0m 1ms/step - loss: 0.1972 - val_loss: 0.2623\n",
      "Epoch 97/100\n",
      "\u001b[1m516/516\u001b[0m \u001b[32m━━━━━━━━━━━━━━━━━━━━\u001b[0m\u001b[37m\u001b[0m \u001b[1m1s\u001b[0m 1ms/step - loss: 0.1920 - val_loss: 0.2527\n",
      "Epoch 98/100\n",
      "\u001b[1m516/516\u001b[0m \u001b[32m━━━━━━━━━━━━━━━━━━━━\u001b[0m\u001b[37m\u001b[0m \u001b[1m1s\u001b[0m 1ms/step - loss: 0.1939 - val_loss: 0.2622\n",
      "Epoch 99/100\n",
      "\u001b[1m516/516\u001b[0m \u001b[32m━━━━━━━━━━━━━━━━━━━━\u001b[0m\u001b[37m\u001b[0m \u001b[1m1s\u001b[0m 2ms/step - loss: 0.1868 - val_loss: 0.2742\n",
      "Epoch 100/100\n",
      "\u001b[1m516/516\u001b[0m \u001b[32m━━━━━━━━━━━━━━━━━━━━\u001b[0m\u001b[37m\u001b[0m \u001b[1m1s\u001b[0m 2ms/step - loss: 0.1866 - val_loss: 0.2550\n"
     ]
    }
   ],
   "source": [
    "# Step 5: Train the model\n",
    "history = model.fit(X_train, y_train, epochs=100, batch_size=32, validation_data=(X_test, y_test))"
   ]
  },
  {
   "cell_type": "markdown",
   "id": "cef14419",
   "metadata": {},
   "source": [
    "**Evaluate the Model on Test Data**\n",
    "\n",
    "- Evaluates the model on the test set.\n",
    "- Prints the Mean Squared Error (MSE) to assess prediction accuracy.\n"
   ]
  },
  {
   "cell_type": "code",
   "execution_count": 37,
   "id": "265f84ba-b8e3-43cb-b56d-d8bc9e10d1c7",
   "metadata": {},
   "outputs": [
    {
     "name": "stdout",
     "output_type": "stream",
     "text": [
      "\u001b[1m129/129\u001b[0m \u001b[32m━━━━━━━━━━━━━━━━━━━━\u001b[0m\u001b[37m\u001b[0m \u001b[1m0s\u001b[0m 1ms/step - loss: 0.2531  \n",
      "Mean Squared Error on the test set: 0.2549746632575989\n"
     ]
    }
   ],
   "source": [
    "# Step 6: Evaluate the model\n",
    "loss = model.evaluate(X_test, y_test)\n",
    "print(f\"Mean Squared Error on the test set: {loss}\")"
   ]
  },
  {
   "cell_type": "markdown",
   "id": "f4aeaa91",
   "metadata": {},
   "source": [
    "**Make and Compare Predictions**\n",
    "\n",
    "- Uses the trained model to predict house prices from the test set.\n",
    "- Prints the first five predicted values alongside actual house prices.\n"
   ]
  },
  {
   "cell_type": "code",
   "execution_count": null,
   "id": "30941532-8186-4fdd-8f13-72195e439f2a",
   "metadata": {},
   "outputs": [
    {
     "name": "stdout",
     "output_type": "stream",
     "text": [
      "\u001b[1m129/129\u001b[0m \u001b[32m━━━━━━━━━━━━━━━━━━━━\u001b[0m\u001b[37m\u001b[0m \u001b[1m0s\u001b[0m 530us/step\n"
     ]
    }
   ],
   "source": [
    "# Step 7: Make predictions\n",
    "predictions = model.predict(X_test)\n",
    "# You can now compare predictions with actual values\n",
    "print(f\"Predictions: {predictions[:5]}\")\n",
    "print(f\"Actual Prices: {y_test[:5]}\")"
   ]
  },
  {
   "cell_type": "markdown",
   "id": "f2622dcf",
   "metadata": {},
   "source": [
    "**Visualize Prediction Performance**\n",
    "\n",
    "- Plots a regression line between predicted and actual prices using a sample of 40 test points.\n",
    "- Helps visually assess how well the model performs.\n"
   ]
  },
  {
   "cell_type": "code",
   "execution_count": 44,
   "id": "18ff9fe6-76ee-431b-aaa6-6f3bf75d3a18",
   "metadata": {},
   "outputs": [
    {
     "name": "stdout",
     "output_type": "stream",
     "text": [
      "\u001b[1m129/129\u001b[0m \u001b[32m━━━━━━━━━━━━━━━━━━━━\u001b[0m\u001b[37m\u001b[0m \u001b[1m0s\u001b[0m 506us/step\n"
     ]
    },
    {
     "data": {
      "image/png": "[encoded data removed]",
      "text/plain": [
       "<Figure size 640x480 with 1 Axes>"
      ]
     },
     "metadata": {},
     "output_type": "display_data"
    }
   ],
   "source": [
    "#OPTIONAL\n",
    "\n",
    "import seaborn as sns\n",
    "import matplotlib.pyplot as plt\n",
    "\n",
    "# Get predictions\n",
    "predictions = model.predict(X_test)\n",
    "\n",
    "# Downsample the data (e.g., every 10th point)\n",
    "sampled_y_test = y_test[:40]\n",
    "sampled_predictions = predictions[:40]\n",
    "\n",
    "# Plot regression line with the downsampled data\n",
    "sns.regplot(x=sampled_y_test, y=sampled_predictions)\n",
    "plt.title(\"Regression Line for Predicted values (Downsampled)\")\n",
    "plt.show()\n"
   ]
  },
  {
   "cell_type": "code",
   "execution_count": null,
   "id": "bbdd81f2-b48c-41d5-93ee-511291917e9e",
   "metadata": {},
   "outputs": [],
   "source": []
  }
 ],
 "metadata": {
  "kernelspec": {
   "display_name": "Python (tf-env)",
   "language": "python",
   "name": "tf-env"
  },
  "language_info": {
   "codemirror_mode": {
    "name": "ipython",
    "version": 3
   },
   "file_extension": ".py",
   "mimetype": "text/x-python",
   "name": "python",
   "nbconvert_exporter": "python",
   "pygments_lexer": "ipython3",
   "version": "3.11.6"
  }
 },
 "nbformat": 4,
 "nbformat_minor": 5
}
